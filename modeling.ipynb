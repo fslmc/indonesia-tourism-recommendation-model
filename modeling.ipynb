{
 "cells": [
  {
   "cell_type": "code",
   "execution_count": 5,
   "id": "66deb827-584a-4153-a6e8-9c5e54447897",
   "metadata": {},
   "outputs": [],
   "source": [
    "import pandas as pd\n",
    "import numpy as np\n",
    "from sklearn.neighbors import NearestNeighbors\n",
    "from sklearn.preprocessing import MultiLabelBinarizer, StandardScaler\n",
    "from sklearn.feature_extraction.text import TfidfVectorizer\n",
    "from sklearn.pipeline import Pipeline\n",
    "from sklearn.compose import ColumnTransformer\n",
    "import joblib"
   ]
  },
  {
   "cell_type": "markdown",
   "id": "8ebcc58a-239a-4525-acee-bfa6e7404287",
   "metadata": {},
   "source": [
    "## Data Loading"
   ]
  },
  {
   "cell_type": "code",
   "execution_count": 7,
   "id": "a395fd1a-5970-496a-844f-fe4b987866b0",
   "metadata": {},
   "outputs": [],
   "source": [
    "users = pd.read_csv('users_synthesized.csv')\n",
    "places = pd.read_csv('tourism_place_synthesized.csv')\n",
    "clicks = pd.read_csv('tourism_click_history.csv')\n",
    "searches = pd.read_csv('tourism_search_history.csv')\n",
    "ratings = pd.read_csv('tourism_rating.csv') "
   ]
  },
  {
   "cell_type": "markdown",
   "id": "fc3b194e-181a-41d5-855a-4619e369270d",
   "metadata": {},
   "source": [
    "## Building"
   ]
  },
  {
   "cell_type": "code",
   "execution_count": 9,
   "id": "4a9d8770-24dc-4d13-84e4-bdd4c9b5e889",
   "metadata": {},
   "outputs": [],
   "source": [
    "# 1. Content-Based Filtering Components\n",
    "def prepare_content_features():\n",
    "    # User features\n",
    "    mlb = MultiLabelBinarizer()\n",
    "    user_cats = mlb.fit_transform(users['Preferred_Categories'].apply(eval))\n",
    "    user_tags = mlb.fit_transform(users['Interest_Tags'].apply(eval))\n",
    "    \n",
    "    # Place features\n",
    "    place_cats = mlb.fit_transform(places['Category'].apply(lambda x: [x]))\n",
    "    place_desc_tfidf = TfidfVectorizer().fit_transform(places['Description'])\n",
    "    \n",
    "    return {\n",
    "        'user_features': np.hstack([user_cats, user_tags]),\n",
    "        'place_features': np.hstack([place_cats, place_desc_tfidf.toarray()]),\n",
    "        'transformers': mlb\n",
    "    }"
   ]
  },
  {
   "cell_type": "code",
   "execution_count": 10,
   "id": "47d4714f-f2d8-4a96-bd27-316088240d50",
   "metadata": {},
   "outputs": [],
   "source": [
    "# 2. Collaborative Filtering Components\n",
    "def prepare_collab_data():\n",
    "    # Create user-item matrix\n",
    "    click_counts = clicks.groupby(['User_Id', 'Place_Id']).size().unstack(fill_value=0)\n",
    "    search_counts = searches.groupby(['User_Id', 'Implied_Place_Id']).size().unstack(fill_value=0)\n",
    "    \n",
    "    # Combine interactions\n",
    "    interaction_matrix = click_counts.add(search_counts, fill_value=0)\n",
    "    return interaction_matrix.fillna(0)"
   ]
  },
  {
   "cell_type": "code",
   "execution_count": 29,
   "id": "0ef34085-5481-400e-acf8-096ce7e421ac",
   "metadata": {},
   "outputs": [],
   "source": [
    "# 3. Hybrid Model\n",
    "class HybridRecommender:\n",
    "    def __init__(self, content_weight=0.6, collab_weight=0.4):\n",
    "        self.content_model = NearestNeighbors(metric='cosine')\n",
    "        self.collab_model = NearestNeighbors(metric='cosine')\n",
    "        self.weights = [content_weight, collab_weight]\n",
    "        self.content_features = None\n",
    "        self.collab_matrix = None\n",
    "        \n",
    "    def fit(self, content_features, collab_matrix):\n",
    "        # Simpan data training\n",
    "        self.content_features = content_features\n",
    "        self.collab_matrix = collab_matrix\n",
    "        \n",
    "        # Train model\n",
    "        self.content_model.fit(content_features)\n",
    "        self.collab_model.fit(collab_matrix)\n",
    "        \n",
    "    def recommend(self, user_idx, k=10):\n",
    "        # Content-based\n",
    "        content_dist, content_idx = self.content_model.kneighbors(\n",
    "            [self.content_features[user_idx]], \n",
    "            n_neighbors=k*2\n",
    "        )\n",
    "        \n",
    "        # Collaborative\n",
    "        collab_dist, collab_idx = self.collab_model.kneighbors(\n",
    "            [self.collab_matrix.iloc[user_idx].values],\n",
    "            n_neighbors=k*2\n",
    "        )\n",
    "        \n",
    "        # Hybrid scoring\n",
    "        combined = pd.DataFrame({\n",
    "            'place_id': np.concatenate([content_idx[0], collab_idx[0]]),\n",
    "            'score': np.concatenate([\n",
    "                1 - content_dist[0] * self.weights[0],\n",
    "                1 - collab_dist[0] * self.weights[1]\n",
    "            ])\n",
    "        }).sort_values('score', ascending=False).head(k)\n",
    "        \n",
    "        return combined['place_id'].tolist()"
   ]
  },
  {
   "cell_type": "code",
   "execution_count": 30,
   "id": "02ae8f57-9da3-45a3-bcba-1368104d8ea9",
   "metadata": {},
   "outputs": [],
   "source": [
    "# Prepare data\n",
    "content_data = prepare_content_features()\n",
    "collab_matrix = prepare_collab_data()"
   ]
  },
  {
   "cell_type": "code",
   "execution_count": 31,
   "id": "52d20260-efd2-4610-85c7-3422b87892cf",
   "metadata": {},
   "outputs": [],
   "source": [
    "# Train model\n",
    "model = HybridRecommender()\n",
    "model.fit(content_data['user_features'], collab_matrix)"
   ]
  },
  {
   "cell_type": "code",
   "execution_count": 32,
   "id": "f9126651-b464-4aed-b8fc-803f7c159f66",
   "metadata": {},
   "outputs": [
    {
     "data": {
      "text/plain": [
       "['hybrid_recommender.joblib']"
      ]
     },
     "execution_count": 32,
     "metadata": {},
     "output_type": "execute_result"
    }
   ],
   "source": [
    "# Save model and transformers\n",
    "joblib.dump({\n",
    "    'model': model,\n",
    "    'content_transformers': content_data['transformers'],\n",
    "    'tfidf_vectorizer': TfidfVectorizer().fit(places['Description']),\n",
    "    'user_mapping': dict(enumerate(users['User_Id'])),\n",
    "    'place_mapping': dict(enumerate(places['Place_Id']))\n",
    "}, 'hybrid_recommender.joblib')"
   ]
  },
  {
   "cell_type": "markdown",
   "id": "2e60abf0-4c03-4157-8e3f-508a5f681cc1",
   "metadata": {},
   "source": [
    "## Contoh Inference"
   ]
  },
  {
   "cell_type": "code",
   "execution_count": 33,
   "id": "577b04a0-82d8-4fd3-a037-e6da747d57cd",
   "metadata": {},
   "outputs": [],
   "source": [
    "# Load model menggunakan joblib\n",
    "rec_model = joblib.load('hybrid_recommender.joblib')\n",
    "hybrid_model = rec_model['model']\n",
    "mlb = rec_model['content_transformers']\n",
    "tfidf = rec_model['tfidf_vectorizer']\n",
    "user_mapping = rec_model['user_mapping']\n",
    "place_mapping = rec_model['place_mapping']"
   ]
  },
  {
   "cell_type": "code",
   "execution_count": 34,
   "id": "71a1c954-e5cd-4fe8-8c35-f2d1b978af4c",
   "metadata": {},
   "outputs": [],
   "source": [
    "# Reverse Mapping\n",
    "inv_user_mapping = {v: k for k, v in user_mapping.items()}\n",
    "inv_place_mapping = {v: k for k, v in place_mapping.items()}"
   ]
  },
  {
   "cell_type": "code",
   "execution_count": 35,
   "id": "19493d19-5cde-453d-9881-1e9834ff9886",
   "metadata": {},
   "outputs": [],
   "source": [
    "# Load your data (Di server aslinya nanti akan ngambil data dari Database Wistara)\n",
    "users = pd.read_csv('users_synthesized.csv')\n",
    "places = pd.read_csv('tourism_place_synthesized.csv')"
   ]
  },
  {
   "cell_type": "code",
   "execution_count": 36,
   "id": "138025e2-9692-4e9e-952d-5accc858a26e",
   "metadata": {},
   "outputs": [],
   "source": [
    "def prepare_user_features(user_row):\n",
    "    \"\"\"Mengconvert feature dari seorang user secara individu jadi input untuk ke model\"\"\"\n",
    "    # Memproses Kategori\n",
    "    user_cats = mlb.transform([ast.literal_eval(user_row['Preferred_Categories'])])\n",
    "    \n",
    "    # Proses Tags\n",
    "    user_tags = mlb.transform([ast.literal_eval(user_row['Interest_Tags'])])\n",
    "    \n",
    "    # Satukan fitur\n",
    "    return np.hstack([user_cats, ])\n",
    "\n",
    "# Sebenarnya user feature nya ada Location Age Coordinates Visited_Places Price_Range Interest_Tags Preferred_Categories Min_Rating"
   ]
  },
  {
   "cell_type": "code",
   "execution_count": 37,
   "id": "d24dacab-cba8-430c-9337-165fa9e6b578",
   "metadata": {},
   "outputs": [],
   "source": [
    "def get_place_details(place_ids):\n",
    "    \"\"\"Mengambil seluruh data dari satu tempat yang akan direkomendasikan\"\"\"\n",
    "    return places[places['Place_Id'].isin(place_ids)]"
   ]
  },
  {
   "cell_type": "code",
   "execution_count": 38,
   "id": "6f6aeb84-9687-4c79-a144-4bde8d1ad3c2",
   "metadata": {},
   "outputs": [
    {
     "name": "stdout",
     "output_type": "stream",
     "text": [
      "Testing recommendations for user: 10\n"
     ]
    }
   ],
   "source": [
    "# TEST REKOMENDASI UNTUK SEORANG USER\n",
    "\n",
    "# Pilih Seorang User (9 itu index user-nya)\n",
    "test_user_id = users.iloc[9]['User_Id']  \n",
    "print(f\"Testing recommendations for user: {test_user_id}\")\n",
    "\n",
    "# Reverse mapping semua data si user-nya\n",
    "user_idx = inv_user_mapping[test_user_id]\n",
    "\n",
    "# Generate rekomendasi (k itu jumlah rekomendasi nya)\n",
    "recommended_place_indices = hybrid_model.recommend(user_idx, k=5)\n",
    "\n",
    "# Convert balik id yang direkomendasikan ke id tempat tersebut\n",
    "recommended_place_ids = [place_mapping[idx] for idx in recommended_place_indices]\n",
    "\n",
    "# Get detail tempat tempat yang direkomendasikan\n",
    "recommendations = get_place_details(recommended_place_ids)\n"
   ]
  },
  {
   "cell_type": "code",
   "execution_count": 41,
   "id": "84c0c36a-f962-42e0-87c2-888b45f6ba0d",
   "metadata": {},
   "outputs": [
    {
     "name": "stdout",
     "output_type": "stream",
     "text": [
      "\n",
      "Top Recommendations:\n"
     ]
    },
    {
     "data": {
      "text/html": [
       "<div>\n",
       "<style scoped>\n",
       "    .dataframe tbody tr th:only-of-type {\n",
       "        vertical-align: middle;\n",
       "    }\n",
       "\n",
       "    .dataframe tbody tr th {\n",
       "        vertical-align: top;\n",
       "    }\n",
       "\n",
       "    .dataframe thead th {\n",
       "        text-align: right;\n",
       "    }\n",
       "</style>\n",
       "<table border=\"1\" class=\"dataframe\">\n",
       "  <thead>\n",
       "    <tr style=\"text-align: right;\">\n",
       "      <th></th>\n",
       "      <th>Place_Id</th>\n",
       "      <th>Place_Name</th>\n",
       "      <th>Category</th>\n",
       "      <th>City</th>\n",
       "      <th>Rating</th>\n",
       "      <th>Price</th>\n",
       "      <th>Tags</th>\n",
       "    </tr>\n",
       "  </thead>\n",
       "  <tbody>\n",
       "    <tr>\n",
       "      <th>9</th>\n",
       "      <td>10</td>\n",
       "      <td>Pulau Tidung</td>\n",
       "      <td>Bahari</td>\n",
       "      <td>Jakarta</td>\n",
       "      <td>13.2</td>\n",
       "      <td>150000</td>\n",
       "      <td>budget, wildlife, religious, resort, temple</td>\n",
       "    </tr>\n",
       "    <tr>\n",
       "      <th>142</th>\n",
       "      <td>143</td>\n",
       "      <td>Seribu Batu Songgo Langit</td>\n",
       "      <td>Cagar Alam</td>\n",
       "      <td>Yogyakarta</td>\n",
       "      <td>14.2</td>\n",
       "      <td>2000</td>\n",
       "      <td>mountain, city, eco-friendly, wildlife, solo</td>\n",
       "    </tr>\n",
       "    <tr>\n",
       "      <th>169</th>\n",
       "      <td>170</td>\n",
       "      <td>Candi Borobudur</td>\n",
       "      <td>Budaya</td>\n",
       "      <td>Yogyakarta</td>\n",
       "      <td>15.2</td>\n",
       "      <td>50000</td>\n",
       "      <td>eco-friendly, camping, festival, local, village</td>\n",
       "    </tr>\n",
       "    <tr>\n",
       "      <th>252</th>\n",
       "      <td>253</td>\n",
       "      <td>Selasar Sunaryo Art Space</td>\n",
       "      <td>Taman Hiburan</td>\n",
       "      <td>Bandung</td>\n",
       "      <td>14.2</td>\n",
       "      <td>25000</td>\n",
       "      <td>cultural, wildlife, festival, adventure, coastal</td>\n",
       "    </tr>\n",
       "  </tbody>\n",
       "</table>\n",
       "</div>"
      ],
      "text/plain": [
       "     Place_Id                 Place_Name       Category        City  Rating  \\\n",
       "9          10               Pulau Tidung         Bahari     Jakarta    13.2   \n",
       "142       143  Seribu Batu Songgo Langit     Cagar Alam  Yogyakarta    14.2   \n",
       "169       170            Candi Borobudur         Budaya  Yogyakarta    15.2   \n",
       "252       253  Selasar Sunaryo Art Space  Taman Hiburan     Bandung    14.2   \n",
       "\n",
       "      Price                                              Tags  \n",
       "9    150000       budget, wildlife, religious, resort, temple  \n",
       "142    2000      mountain, city, eco-friendly, wildlife, solo  \n",
       "169   50000   eco-friendly, camping, festival, local, village  \n",
       "252   25000  cultural, wildlife, festival, adventure, coastal  "
      ]
     },
     "metadata": {},
     "output_type": "display_data"
    }
   ],
   "source": [
    "# Display results\n",
    "print(\"\\nTop Recommendations:\")\n",
    "display(recommendations[['Place_Id', 'Place_Name', 'Category', 'City', 'Rating', 'Price', 'Tags']])"
   ]
  },
  {
   "cell_type": "code",
   "execution_count": 40,
   "id": "0ee90820-ce28-4ca5-b9d1-23f8fdf6adb3",
   "metadata": {},
   "outputs": [
    {
     "name": "stdout",
     "output_type": "stream",
     "text": [
      "\n",
      "User Preferences:\n"
     ]
    },
    {
     "data": {
      "text/html": [
       "<div>\n",
       "<style scoped>\n",
       "    .dataframe tbody tr th:only-of-type {\n",
       "        vertical-align: middle;\n",
       "    }\n",
       "\n",
       "    .dataframe tbody tr th {\n",
       "        vertical-align: top;\n",
       "    }\n",
       "\n",
       "    .dataframe thead th {\n",
       "        text-align: right;\n",
       "    }\n",
       "</style>\n",
       "<table border=\"1\" class=\"dataframe\">\n",
       "  <thead>\n",
       "    <tr style=\"text-align: right;\">\n",
       "      <th></th>\n",
       "      <th>Preferred_Categories</th>\n",
       "      <th>Interest_Tags</th>\n",
       "      <th>Price_Range</th>\n",
       "      <th>Min_Rating</th>\n",
       "    </tr>\n",
       "  </thead>\n",
       "  <tbody>\n",
       "    <tr>\n",
       "      <th>9</th>\n",
       "      <td>['Budaya', 'Taman Hiburan']</td>\n",
       "      <td>['cultural', 'family', 'family']</td>\n",
       "      <td>10890-110890</td>\n",
       "      <td>4.5</td>\n",
       "    </tr>\n",
       "  </tbody>\n",
       "</table>\n",
       "</div>"
      ],
      "text/plain": [
       "          Preferred_Categories                     Interest_Tags  \\\n",
       "9  ['Budaya', 'Taman Hiburan']  ['cultural', 'family', 'family']   \n",
       "\n",
       "    Price_Range  Min_Rating  \n",
       "9  10890-110890         4.5  "
      ]
     },
     "metadata": {},
     "output_type": "display_data"
    }
   ],
   "source": [
    "# Show user's preferences for comparison\n",
    "print(\"\\nUser Preferences:\")\n",
    "user_prefs = users[users['User_Id'] == test_user_id][[\n",
    "    'Preferred_Categories', 'Interest_Tags', 'Price_Range', 'Min_Rating'\n",
    "]]\n",
    "display(user_prefs)"
   ]
  },
  {
   "cell_type": "markdown",
   "id": "2cfda343-41e0-4b13-a3c6-2d19447ee8d2",
   "metadata": {},
   "source": [
    "Contoh Format Response saat server diimplementasikan :\n",
    "\n",
    "```\n",
    "{\n",
    "  \"user_id\": 12345,\n",
    "  \"recommendations\": [\n",
    "    {\n",
    "      \"place_id\": 678,\n",
    "      \"name\": \"Tanah Lot Temple\",\n",
    "      \"category\": \"Cultural\",\n",
    "      \"city\": \"Bali\",\n",
    "      \"rating\": 4.8,\n",
    "      \"price_range\": \"IDR 50,000-100,000\",\n",
    "      \"match_score\": 0.92\n",
    "    }\n",
    "  ],\n",
    "  \"context\": {\n",
    "    \"model_version\": \"1.2\",\n",
    "    \"generated_at\": \"2023-12-25T14:30:00Z\"\n",
    "  }\n",
    "}\n",
    "```"
   ]
  },
  {
   "cell_type": "code",
   "execution_count": null,
   "id": "3fabf781-db5a-4a08-9ce8-cd1fb1fc015c",
   "metadata": {},
   "outputs": [],
   "source": []
  }
 ],
 "metadata": {
  "kernelspec": {
   "display_name": "Python 3 (ipykernel)",
   "language": "python",
   "name": "python3"
  },
  "language_info": {
   "codemirror_mode": {
    "name": "ipython",
    "version": 3
   },
   "file_extension": ".py",
   "mimetype": "text/x-python",
   "name": "python",
   "nbconvert_exporter": "python",
   "pygments_lexer": "ipython3",
   "version": "3.12.0"
  }
 },
 "nbformat": 4,
 "nbformat_minor": 5
}
