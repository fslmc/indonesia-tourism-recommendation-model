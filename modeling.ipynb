{
 "cells": [
  {
   "cell_type": "code",
   "execution_count": 48,
   "id": "66deb827-584a-4153-a6e8-9c5e54447897",
   "metadata": {},
   "outputs": [],
   "source": [
    "import pandas as pd\n",
    "import numpy as np\n",
    "from sklearn.neighbors import NearestNeighbors\n",
    "from sklearn.preprocessing import MultiLabelBinarizer, StandardScaler\n",
    "from sklearn.feature_extraction.text import TfidfVectorizer\n",
    "from sklearn.pipeline import Pipeline\n",
    "from sklearn.compose import ColumnTransformer\n",
    "import joblib\n",
    "from sklearn.metrics import ndcg_score"
   ]
  },
  {
   "cell_type": "markdown",
   "id": "8ebcc58a-239a-4525-acee-bfa6e7404287",
   "metadata": {},
   "source": [
    "## Data Loading"
   ]
  },
  {
   "cell_type": "code",
   "execution_count": 7,
   "id": "a395fd1a-5970-496a-844f-fe4b987866b0",
   "metadata": {},
   "outputs": [],
   "source": [
    "users = pd.read_csv('users_synthesized.csv')\n",
    "places = pd.read_csv('tourism_place_synthesized.csv')\n",
    "clicks = pd.read_csv('tourism_click_history.csv')\n",
    "searches = pd.read_csv('tourism_search_history.csv')\n",
    "ratings = pd.read_csv('tourism_rating.csv') "
   ]
  },
  {
   "cell_type": "markdown",
   "id": "fc3b194e-181a-41d5-855a-4619e369270d",
   "metadata": {},
   "source": [
    "## Building"
   ]
  },
  {
   "cell_type": "code",
   "execution_count": 9,
   "id": "4a9d8770-24dc-4d13-84e4-bdd4c9b5e889",
   "metadata": {},
   "outputs": [],
   "source": [
    "# 1. Content-Based Filtering Components\n",
    "def prepare_content_features():\n",
    "    # User features\n",
    "    mlb = MultiLabelBinarizer()\n",
    "    user_cats = mlb.fit_transform(users['Preferred_Categories'].apply(eval))\n",
    "    user_tags = mlb.fit_transform(users['Interest_Tags'].apply(eval))\n",
    "    \n",
    "    # Place features\n",
    "    place_cats = mlb.fit_transform(places['Category'].apply(lambda x: [x]))\n",
    "    place_desc_tfidf = TfidfVectorizer().fit_transform(places['Description'])\n",
    "    \n",
    "    return {\n",
    "        'user_features': np.hstack([user_cats, user_tags]),\n",
    "        'place_features': np.hstack([place_cats, place_desc_tfidf.toarray()]),\n",
    "        'transformers': mlb\n",
    "    }"
   ]
  },
  {
   "cell_type": "code",
   "execution_count": 10,
   "id": "47d4714f-f2d8-4a96-bd27-316088240d50",
   "metadata": {},
   "outputs": [],
   "source": [
    "# 2. Collaborative Filtering Components\n",
    "def prepare_collab_data():\n",
    "    # Create user-item matrix\n",
    "    click_counts = clicks.groupby(['User_Id', 'Place_Id']).size().unstack(fill_value=0)\n",
    "    search_counts = searches.groupby(['User_Id', 'Implied_Place_Id']).size().unstack(fill_value=0)\n",
    "    \n",
    "    # Combine interactions\n",
    "    interaction_matrix = click_counts.add(search_counts, fill_value=0)\n",
    "    return interaction_matrix.fillna(0)"
   ]
  },
  {
   "cell_type": "code",
   "execution_count": 29,
   "id": "0ef34085-5481-400e-acf8-096ce7e421ac",
   "metadata": {},
   "outputs": [],
   "source": [
    "# 3. Hybrid Model\n",
    "class HybridRecommender:\n",
    "    def __init__(self, content_weight=0.6, collab_weight=0.4):\n",
    "        self.content_model = NearestNeighbors(metric='cosine')\n",
    "        self.collab_model = NearestNeighbors(metric='cosine')\n",
    "        self.weights = [content_weight, collab_weight]\n",
    "        self.content_features = None\n",
    "        self.collab_matrix = None\n",
    "        \n",
    "    def fit(self, content_features, collab_matrix):\n",
    "        # Simpan data training\n",
    "        self.content_features = content_features\n",
    "        self.collab_matrix = collab_matrix\n",
    "        \n",
    "        # Train model\n",
    "        self.content_model.fit(content_features)\n",
    "        self.collab_model.fit(collab_matrix)\n",
    "        \n",
    "    def recommend(self, user_idx, k=10):\n",
    "        # Content-based\n",
    "        content_dist, content_idx = self.content_model.kneighbors(\n",
    "            [self.content_features[user_idx]], \n",
    "            n_neighbors=k*2\n",
    "        )\n",
    "        \n",
    "        # Collaborative\n",
    "        collab_dist, collab_idx = self.collab_model.kneighbors(\n",
    "            [self.collab_matrix.iloc[user_idx].values],\n",
    "            n_neighbors=k*2\n",
    "        )\n",
    "        \n",
    "        # Hybrid scoring\n",
    "        combined = pd.DataFrame({\n",
    "            'place_id': np.concatenate([content_idx[0], collab_idx[0]]),\n",
    "            'score': np.concatenate([\n",
    "                1 - content_dist[0] * self.weights[0],\n",
    "                1 - collab_dist[0] * self.weights[1]\n",
    "            ])\n",
    "        }).sort_values('score', ascending=False).head(k)\n",
    "        \n",
    "        return combined['place_id'].tolist()"
   ]
  },
  {
   "cell_type": "code",
   "execution_count": 30,
   "id": "02ae8f57-9da3-45a3-bcba-1368104d8ea9",
   "metadata": {},
   "outputs": [],
   "source": [
    "# Prepare data\n",
    "content_data = prepare_content_features()\n",
    "collab_matrix = prepare_collab_data()"
   ]
  },
  {
   "cell_type": "code",
   "execution_count": 31,
   "id": "52d20260-efd2-4610-85c7-3422b87892cf",
   "metadata": {},
   "outputs": [],
   "source": [
    "# Train model\n",
    "model = HybridRecommender()\n",
    "model.fit(content_data['user_features'], collab_matrix)"
   ]
  },
  {
   "cell_type": "code",
   "execution_count": 32,
   "id": "f9126651-b464-4aed-b8fc-803f7c159f66",
   "metadata": {},
   "outputs": [
    {
     "data": {
      "text/plain": [
       "['hybrid_recommender.joblib']"
      ]
     },
     "execution_count": 32,
     "metadata": {},
     "output_type": "execute_result"
    }
   ],
   "source": [
    "# Save model and transformers\n",
    "joblib.dump({\n",
    "    'model': model,\n",
    "    'content_transformers': content_data['transformers'],\n",
    "    'tfidf_vectorizer': TfidfVectorizer().fit(places['Description']),\n",
    "    'user_mapping': dict(enumerate(users['User_Id'])),\n",
    "    'place_mapping': dict(enumerate(places['Place_Id']))\n",
    "}, 'hybrid_recommender.joblib')"
   ]
  },
  {
   "cell_type": "markdown",
   "id": "2e60abf0-4c03-4157-8e3f-508a5f681cc1",
   "metadata": {},
   "source": [
    "## Contoh Inference"
   ]
  },
  {
   "cell_type": "code",
   "execution_count": 33,
   "id": "577b04a0-82d8-4fd3-a037-e6da747d57cd",
   "metadata": {},
   "outputs": [],
   "source": [
    "# Load model menggunakan joblib\n",
    "rec_model = joblib.load('hybrid_recommender.joblib')\n",
    "hybrid_model = rec_model['model']\n",
    "mlb = rec_model['content_transformers']\n",
    "tfidf = rec_model['tfidf_vectorizer']\n",
    "user_mapping = rec_model['user_mapping']\n",
    "place_mapping = rec_model['place_mapping']"
   ]
  },
  {
   "cell_type": "code",
   "execution_count": 34,
   "id": "71a1c954-e5cd-4fe8-8c35-f2d1b978af4c",
   "metadata": {},
   "outputs": [],
   "source": [
    "# Reverse Mapping\n",
    "inv_user_mapping = {v: k for k, v in user_mapping.items()}\n",
    "inv_place_mapping = {v: k for k, v in place_mapping.items()}"
   ]
  },
  {
   "cell_type": "code",
   "execution_count": 35,
   "id": "19493d19-5cde-453d-9881-1e9834ff9886",
   "metadata": {},
   "outputs": [],
   "source": [
    "# Load your data (Di server aslinya nanti akan ngambil data dari Database Wistara)\n",
    "users = pd.read_csv('users_synthesized.csv')\n",
    "places = pd.read_csv('tourism_place_synthesized.csv')"
   ]
  },
  {
   "cell_type": "code",
   "execution_count": 36,
   "id": "138025e2-9692-4e9e-952d-5accc858a26e",
   "metadata": {},
   "outputs": [],
   "source": [
    "def prepare_user_features(user_row):\n",
    "    \"\"\"Mengconvert feature dari seorang user secara individu jadi input untuk ke model\"\"\"\n",
    "    # Memproses Kategori\n",
    "    user_cats = mlb.transform([ast.literal_eval(user_row['Preferred_Categories'])])\n",
    "    \n",
    "    # Proses Tags\n",
    "    user_tags = mlb.transform([ast.literal_eval(user_row['Interest_Tags'])])\n",
    "    \n",
    "    # Satukan fitur\n",
    "    return np.hstack([user_cats, ])\n",
    "\n",
    "# Sebenarnya user feature nya ada Location Age Coordinates Visited_Places Price_Range Interest_Tags Preferred_Categories Min_Rating"
   ]
  },
  {
   "cell_type": "code",
   "execution_count": 37,
   "id": "d24dacab-cba8-430c-9337-165fa9e6b578",
   "metadata": {},
   "outputs": [],
   "source": [
    "def get_place_details(place_ids):\n",
    "    \"\"\"Mengambil seluruh data dari satu tempat yang akan direkomendasikan\"\"\"\n",
    "    return places[places['Place_Id'].isin(place_ids)]"
   ]
  },
  {
   "cell_type": "code",
   "execution_count": 46,
   "id": "6f6aeb84-9687-4c79-a144-4bde8d1ad3c2",
   "metadata": {},
   "outputs": [
    {
     "name": "stdout",
     "output_type": "stream",
     "text": [
      "Testing recommendations for user: 212\n"
     ]
    }
   ],
   "source": [
    "# TEST REKOMENDASI UNTUK SEORANG USER\n",
    "\n",
    "# Pilih Seorang User (9 itu index user-nya)\n",
    "test_user_id = users.iloc[211]['User_Id']  \n",
    "print(f\"Testing recommendations for user: {test_user_id}\")\n",
    "\n",
    "# Reverse mapping semua data si user-nya\n",
    "user_idx = inv_user_mapping[test_user_id]\n",
    "\n",
    "# Generate rekomendasi ()\n",
    "recommended_place_indices = hybrid_model.recommend(user_idx, k=5)\n",
    "\n",
    "# Convert balik id yang direkomendasikan ke id tempat tersebut\n",
    "recommended_place_ids = [place_mapping[idx] for idx in recommended_place_indices]\n",
    "\n",
    "# Get detail tempat tempat yang direkomendasikan\n",
    "recommendations = get_place_details(recommended_place_ids)\n"
   ]
  },
  {
   "cell_type": "code",
   "execution_count": 47,
   "id": "84c0c36a-f962-42e0-87c2-888b45f6ba0d",
   "metadata": {},
   "outputs": [
    {
     "name": "stdout",
     "output_type": "stream",
     "text": [
      "\n",
      "Top Recommendations:\n"
     ]
    },
    {
     "data": {
      "text/html": [
       "<div>\n",
       "<style scoped>\n",
       "    .dataframe tbody tr th:only-of-type {\n",
       "        vertical-align: middle;\n",
       "    }\n",
       "\n",
       "    .dataframe tbody tr th {\n",
       "        vertical-align: top;\n",
       "    }\n",
       "\n",
       "    .dataframe thead th {\n",
       "        text-align: right;\n",
       "    }\n",
       "</style>\n",
       "<table border=\"1\" class=\"dataframe\">\n",
       "  <thead>\n",
       "    <tr style=\"text-align: right;\">\n",
       "      <th></th>\n",
       "      <th>Place_Id</th>\n",
       "      <th>Place_Name</th>\n",
       "      <th>Category</th>\n",
       "      <th>City</th>\n",
       "      <th>Rating</th>\n",
       "      <th>Price</th>\n",
       "      <th>Tags</th>\n",
       "    </tr>\n",
       "  </thead>\n",
       "  <tbody>\n",
       "    <tr>\n",
       "      <th>33</th>\n",
       "      <td>34</td>\n",
       "      <td>Pasar Taman Puring</td>\n",
       "      <td>Pusat Perbelanjaan</td>\n",
       "      <td>Jakarta</td>\n",
       "      <td>12.2</td>\n",
       "      <td>0</td>\n",
       "      <td>museum, local, art, island, free</td>\n",
       "    </tr>\n",
       "    <tr>\n",
       "      <th>42</th>\n",
       "      <td>43</td>\n",
       "      <td>The Escape Hunt</td>\n",
       "      <td>Taman Hiburan</td>\n",
       "      <td>Jakarta</td>\n",
       "      <td>12.2</td>\n",
       "      <td>70000</td>\n",
       "      <td>heritage, extreme, forest, adventure, family</td>\n",
       "    </tr>\n",
       "    <tr>\n",
       "      <th>85</th>\n",
       "      <td>86</td>\n",
       "      <td>Keraton Yogyakarta</td>\n",
       "      <td>Budaya</td>\n",
       "      <td>Yogyakarta</td>\n",
       "      <td>14.2</td>\n",
       "      <td>15000</td>\n",
       "      <td>cultural, extreme, forest, festival, religious</td>\n",
       "    </tr>\n",
       "    <tr>\n",
       "      <th>211</th>\n",
       "      <td>212</td>\n",
       "      <td>Jalan Braga</td>\n",
       "      <td>Budaya</td>\n",
       "      <td>Bandung</td>\n",
       "      <td>15.2</td>\n",
       "      <td>0</td>\n",
       "      <td>romantic, modern, solo, camping, free</td>\n",
       "    </tr>\n",
       "  </tbody>\n",
       "</table>\n",
       "</div>"
      ],
      "text/plain": [
       "     Place_Id          Place_Name            Category        City  Rating  \\\n",
       "33         34  Pasar Taman Puring  Pusat Perbelanjaan     Jakarta    12.2   \n",
       "42         43     The Escape Hunt       Taman Hiburan     Jakarta    12.2   \n",
       "85         86  Keraton Yogyakarta              Budaya  Yogyakarta    14.2   \n",
       "211       212         Jalan Braga              Budaya     Bandung    15.2   \n",
       "\n",
       "     Price                                            Tags  \n",
       "33       0                museum, local, art, island, free  \n",
       "42   70000    heritage, extreme, forest, adventure, family  \n",
       "85   15000  cultural, extreme, forest, festival, religious  \n",
       "211      0           romantic, modern, solo, camping, free  "
      ]
     },
     "metadata": {},
     "output_type": "display_data"
    }
   ],
   "source": [
    "# Display results\n",
    "print(\"\\nTop Recommendations:\")\n",
    "display(recommendations[['Place_Id', 'Place_Name', 'Category', 'City', 'Rating', 'Price', 'Tags']])"
   ]
  },
  {
   "cell_type": "code",
   "execution_count": 40,
   "id": "0ee90820-ce28-4ca5-b9d1-23f8fdf6adb3",
   "metadata": {},
   "outputs": [
    {
     "name": "stdout",
     "output_type": "stream",
     "text": [
      "\n",
      "User Preferences:\n"
     ]
    },
    {
     "data": {
      "text/html": [
       "<div>\n",
       "<style scoped>\n",
       "    .dataframe tbody tr th:only-of-type {\n",
       "        vertical-align: middle;\n",
       "    }\n",
       "\n",
       "    .dataframe tbody tr th {\n",
       "        vertical-align: top;\n",
       "    }\n",
       "\n",
       "    .dataframe thead th {\n",
       "        text-align: right;\n",
       "    }\n",
       "</style>\n",
       "<table border=\"1\" class=\"dataframe\">\n",
       "  <thead>\n",
       "    <tr style=\"text-align: right;\">\n",
       "      <th></th>\n",
       "      <th>Preferred_Categories</th>\n",
       "      <th>Interest_Tags</th>\n",
       "      <th>Price_Range</th>\n",
       "      <th>Min_Rating</th>\n",
       "    </tr>\n",
       "  </thead>\n",
       "  <tbody>\n",
       "    <tr>\n",
       "      <th>9</th>\n",
       "      <td>['Budaya', 'Taman Hiburan']</td>\n",
       "      <td>['cultural', 'family', 'family']</td>\n",
       "      <td>10890-110890</td>\n",
       "      <td>4.5</td>\n",
       "    </tr>\n",
       "  </tbody>\n",
       "</table>\n",
       "</div>"
      ],
      "text/plain": [
       "          Preferred_Categories                     Interest_Tags  \\\n",
       "9  ['Budaya', 'Taman Hiburan']  ['cultural', 'family', 'family']   \n",
       "\n",
       "    Price_Range  Min_Rating  \n",
       "9  10890-110890         4.5  "
      ]
     },
     "metadata": {},
     "output_type": "display_data"
    }
   ],
   "source": [
    "# Show user's preferences for comparison\n",
    "print(\"\\nUser Preferences:\")\n",
    "user_prefs = users[users['User_Id'] == test_user_id][[\n",
    "    'Preferred_Categories', 'Interest_Tags', 'Price_Range', 'Min_Rating'\n",
    "]]\n",
    "display(user_prefs)"
   ]
  },
  {
   "cell_type": "markdown",
   "id": "2cfda343-41e0-4b13-a3c6-2d19447ee8d2",
   "metadata": {},
   "source": [
    "Contoh Format Response saat server diimplementasikan :\n",
    "\n",
    "```\n",
    "{\n",
    "  \"user_id\": 12345,\n",
    "  \"recommendations\": [\n",
    "    {\n",
    "      \"place_id\": 678,\n",
    "      \"name\": \"Tanah Lot Temple\",\n",
    "      \"category\": \"Cultural\",\n",
    "      \"city\": \"Bali\",\n",
    "      \"rating\": 4.8,\n",
    "      \"price_range\": \"IDR 50,000-100,000\",\n",
    "      \"match_score\": 0.92\n",
    "    }\n",
    "  ],\n",
    "  \"context\": {\n",
    "    \"model_version\": \"1.2\",\n",
    "    \"generated_at\": \"2023-12-25T14:30:00Z\"\n",
    "  }\n",
    "}\n",
    "```"
   ]
  },
  {
   "cell_type": "markdown",
   "id": "6fcbe8d0-5beb-4b0a-90c0-8e94928f6cc9",
   "metadata": {},
   "source": [
    "## Evaluation"
   ]
  },
  {
   "cell_type": "code",
   "execution_count": 51,
   "id": "84d537eb-a20d-463d-ab98-9816ecd79929",
   "metadata": {},
   "outputs": [
    {
     "ename": "ValueError",
     "evalue": "Found array with 0 feature(s) (shape=(1, 0)) while a minimum of 1 is required.",
     "output_type": "error",
     "traceback": [
      "\u001b[1;31m---------------------------------------------------------------------------\u001b[0m",
      "\u001b[1;31mValueError\u001b[0m                                Traceback (most recent call last)",
      "Cell \u001b[1;32mIn[51], line 50\u001b[0m\n\u001b[0;32m     42\u001b[0m test_user_ids \u001b[38;5;241m=\u001b[39m users\u001b[38;5;241m.\u001b[39msample(\u001b[38;5;241m10\u001b[39m)[\u001b[38;5;124m'\u001b[39m\u001b[38;5;124mUser_Id\u001b[39m\u001b[38;5;124m'\u001b[39m]\u001b[38;5;241m.\u001b[39mtolist()\n\u001b[0;32m     43\u001b[0m ground_truth \u001b[38;5;241m=\u001b[39m {\n\u001b[0;32m     44\u001b[0m     \u001b[38;5;66;03m# Contoh data: {user_id: [place_id1, place_id2]}\u001b[39;00m\n\u001b[0;32m     45\u001b[0m     \u001b[38;5;241m123\u001b[39m: [\u001b[38;5;241m45\u001b[39m, \u001b[38;5;241m89\u001b[39m, \u001b[38;5;241m120\u001b[39m],\n\u001b[0;32m     46\u001b[0m     \u001b[38;5;241m456\u001b[39m: [\u001b[38;5;241m78\u001b[39m, \u001b[38;5;241m92\u001b[39m],\n\u001b[0;32m     47\u001b[0m     \u001b[38;5;66;03m# ...\u001b[39;00m\n\u001b[0;32m     48\u001b[0m }\n\u001b[1;32m---> 50\u001b[0m metrics \u001b[38;5;241m=\u001b[39m \u001b[43mevaluate_recommendations\u001b[49m\u001b[43m(\u001b[49m\u001b[43mhybrid_model\u001b[49m\u001b[43m,\u001b[49m\u001b[43m \u001b[49m\u001b[43mtest_user_ids\u001b[49m\u001b[43m,\u001b[49m\u001b[43m \u001b[49m\u001b[43mground_truth\u001b[49m\u001b[43m)\u001b[49m\n\u001b[0;32m     51\u001b[0m \u001b[38;5;28mprint\u001b[39m(\u001b[38;5;124mf\u001b[39m\u001b[38;5;124m\"\u001b[39m\u001b[38;5;124mPrecision@5: \u001b[39m\u001b[38;5;132;01m{\u001b[39;00mmetrics[\u001b[38;5;124m'\u001b[39m\u001b[38;5;124mprecision@k\u001b[39m\u001b[38;5;124m'\u001b[39m]\u001b[38;5;132;01m:\u001b[39;00m\u001b[38;5;124m.2f\u001b[39m\u001b[38;5;132;01m}\u001b[39;00m\u001b[38;5;124m\"\u001b[39m)\n\u001b[0;32m     52\u001b[0m \u001b[38;5;28mprint\u001b[39m(\u001b[38;5;124mf\u001b[39m\u001b[38;5;124m\"\u001b[39m\u001b[38;5;124mRecall@5: \u001b[39m\u001b[38;5;132;01m{\u001b[39;00mmetrics[\u001b[38;5;124m'\u001b[39m\u001b[38;5;124mrecall@k\u001b[39m\u001b[38;5;124m'\u001b[39m]\u001b[38;5;132;01m:\u001b[39;00m\u001b[38;5;124m.2f\u001b[39m\u001b[38;5;132;01m}\u001b[39;00m\u001b[38;5;124m\"\u001b[39m)\n",
      "Cell \u001b[1;32mIn[51], line 29\u001b[0m, in \u001b[0;36mevaluate_recommendations\u001b[1;34m(model, test_users, ground_truth, k)\u001b[0m\n\u001b[0;32m     27\u001b[0m ideal_ranking \u001b[38;5;241m=\u001b[39m \u001b[38;5;28msorted\u001b[39m(actual, reverse\u001b[38;5;241m=\u001b[39m\u001b[38;5;28;01mTrue\u001b[39;00m)\n\u001b[0;32m     28\u001b[0m user_scores \u001b[38;5;241m=\u001b[39m [\u001b[38;5;241m1\u001b[39m \u001b[38;5;28;01mif\u001b[39;00m p \u001b[38;5;129;01min\u001b[39;00m actual \u001b[38;5;28;01melse\u001b[39;00m \u001b[38;5;241m0\u001b[39m \u001b[38;5;28;01mfor\u001b[39;00m p \u001b[38;5;129;01min\u001b[39;00m recommended]\n\u001b[1;32m---> 29\u001b[0m ndcg \u001b[38;5;241m=\u001b[39m \u001b[43mndcg_score\u001b[49m\u001b[43m(\u001b[49m\u001b[43m[\u001b[49m\u001b[43mideal_ranking\u001b[49m\u001b[43m]\u001b[49m\u001b[43m,\u001b[49m\u001b[43m \u001b[49m\u001b[43m[\u001b[49m\u001b[43muser_scores\u001b[49m\u001b[43m]\u001b[49m\u001b[43m)\u001b[49m\n\u001b[0;32m     31\u001b[0m precisions\u001b[38;5;241m.\u001b[39mappend(precision)\n\u001b[0;32m     32\u001b[0m recalls\u001b[38;5;241m.\u001b[39mappend(recall)\n",
      "File \u001b[1;32mC:\\Python312\\Lib\\site-packages\\sklearn\\utils\\_param_validation.py:216\u001b[0m, in \u001b[0;36mvalidate_params.<locals>.decorator.<locals>.wrapper\u001b[1;34m(*args, **kwargs)\u001b[0m\n\u001b[0;32m    210\u001b[0m \u001b[38;5;28;01mtry\u001b[39;00m:\n\u001b[0;32m    211\u001b[0m     \u001b[38;5;28;01mwith\u001b[39;00m config_context(\n\u001b[0;32m    212\u001b[0m         skip_parameter_validation\u001b[38;5;241m=\u001b[39m(\n\u001b[0;32m    213\u001b[0m             prefer_skip_nested_validation \u001b[38;5;129;01mor\u001b[39;00m global_skip_validation\n\u001b[0;32m    214\u001b[0m         )\n\u001b[0;32m    215\u001b[0m     ):\n\u001b[1;32m--> 216\u001b[0m         \u001b[38;5;28;01mreturn\u001b[39;00m \u001b[43mfunc\u001b[49m\u001b[43m(\u001b[49m\u001b[38;5;241;43m*\u001b[39;49m\u001b[43margs\u001b[49m\u001b[43m,\u001b[49m\u001b[43m \u001b[49m\u001b[38;5;241;43m*\u001b[39;49m\u001b[38;5;241;43m*\u001b[39;49m\u001b[43mkwargs\u001b[49m\u001b[43m)\u001b[49m\n\u001b[0;32m    217\u001b[0m \u001b[38;5;28;01mexcept\u001b[39;00m InvalidParameterError \u001b[38;5;28;01mas\u001b[39;00m e:\n\u001b[0;32m    218\u001b[0m     \u001b[38;5;66;03m# When the function is just a wrapper around an estimator, we allow\u001b[39;00m\n\u001b[0;32m    219\u001b[0m     \u001b[38;5;66;03m# the function to delegate validation to the estimator, but we replace\u001b[39;00m\n\u001b[0;32m    220\u001b[0m     \u001b[38;5;66;03m# the name of the estimator by the name of the function in the error\u001b[39;00m\n\u001b[0;32m    221\u001b[0m     \u001b[38;5;66;03m# message to avoid confusion.\u001b[39;00m\n\u001b[0;32m    222\u001b[0m     msg \u001b[38;5;241m=\u001b[39m re\u001b[38;5;241m.\u001b[39msub(\n\u001b[0;32m    223\u001b[0m         \u001b[38;5;124mr\u001b[39m\u001b[38;5;124m\"\u001b[39m\u001b[38;5;124mparameter of \u001b[39m\u001b[38;5;124m\\\u001b[39m\u001b[38;5;124mw+ must be\u001b[39m\u001b[38;5;124m\"\u001b[39m,\n\u001b[0;32m    224\u001b[0m         \u001b[38;5;124mf\u001b[39m\u001b[38;5;124m\"\u001b[39m\u001b[38;5;124mparameter of \u001b[39m\u001b[38;5;132;01m{\u001b[39;00mfunc\u001b[38;5;241m.\u001b[39m\u001b[38;5;18m__qualname__\u001b[39m\u001b[38;5;132;01m}\u001b[39;00m\u001b[38;5;124m must be\u001b[39m\u001b[38;5;124m\"\u001b[39m,\n\u001b[0;32m    225\u001b[0m         \u001b[38;5;28mstr\u001b[39m(e),\n\u001b[0;32m    226\u001b[0m     )\n",
      "File \u001b[1;32mC:\\Python312\\Lib\\site-packages\\sklearn\\metrics\\_ranking.py:1875\u001b[0m, in \u001b[0;36mndcg_score\u001b[1;34m(y_true, y_score, k, sample_weight, ignore_ties)\u001b[0m\n\u001b[0;32m   1771\u001b[0m \u001b[38;5;129m@validate_params\u001b[39m(\n\u001b[0;32m   1772\u001b[0m     {\n\u001b[0;32m   1773\u001b[0m         \u001b[38;5;124m\"\u001b[39m\u001b[38;5;124my_true\u001b[39m\u001b[38;5;124m\"\u001b[39m: [\u001b[38;5;124m\"\u001b[39m\u001b[38;5;124marray-like\u001b[39m\u001b[38;5;124m\"\u001b[39m],\n\u001b[1;32m   (...)\u001b[0m\n\u001b[0;32m   1780\u001b[0m )\n\u001b[0;32m   1781\u001b[0m \u001b[38;5;28;01mdef\u001b[39;00m\u001b[38;5;250m \u001b[39m\u001b[38;5;21mndcg_score\u001b[39m(y_true, y_score, \u001b[38;5;241m*\u001b[39m, k\u001b[38;5;241m=\u001b[39m\u001b[38;5;28;01mNone\u001b[39;00m, sample_weight\u001b[38;5;241m=\u001b[39m\u001b[38;5;28;01mNone\u001b[39;00m, ignore_ties\u001b[38;5;241m=\u001b[39m\u001b[38;5;28;01mFalse\u001b[39;00m):\n\u001b[0;32m   1782\u001b[0m \u001b[38;5;250m    \u001b[39m\u001b[38;5;124;03m\"\"\"Compute Normalized Discounted Cumulative Gain.\u001b[39;00m\n\u001b[0;32m   1783\u001b[0m \n\u001b[0;32m   1784\u001b[0m \u001b[38;5;124;03m    Sum the true scores ranked in the order induced by the predicted scores,\u001b[39;00m\n\u001b[1;32m   (...)\u001b[0m\n\u001b[0;32m   1873\u001b[0m \u001b[38;5;124;03m    np.float64(0.5...)\u001b[39;00m\n\u001b[0;32m   1874\u001b[0m \u001b[38;5;124;03m    \"\"\"\u001b[39;00m\n\u001b[1;32m-> 1875\u001b[0m     y_true \u001b[38;5;241m=\u001b[39m \u001b[43mcheck_array\u001b[49m\u001b[43m(\u001b[49m\u001b[43my_true\u001b[49m\u001b[43m,\u001b[49m\u001b[43m \u001b[49m\u001b[43mensure_2d\u001b[49m\u001b[38;5;241;43m=\u001b[39;49m\u001b[38;5;28;43;01mFalse\u001b[39;49;00m\u001b[43m)\u001b[49m\n\u001b[0;32m   1876\u001b[0m     y_score \u001b[38;5;241m=\u001b[39m check_array(y_score, ensure_2d\u001b[38;5;241m=\u001b[39m\u001b[38;5;28;01mFalse\u001b[39;00m)\n\u001b[0;32m   1877\u001b[0m     check_consistent_length(y_true, y_score, sample_weight)\n",
      "File \u001b[1;32mC:\\Python312\\Lib\\site-packages\\sklearn\\utils\\validation.py:1139\u001b[0m, in \u001b[0;36mcheck_array\u001b[1;34m(array, accept_sparse, accept_large_sparse, dtype, order, copy, force_writeable, force_all_finite, ensure_all_finite, ensure_non_negative, ensure_2d, allow_nd, ensure_min_samples, ensure_min_features, estimator, input_name)\u001b[0m\n\u001b[0;32m   1137\u001b[0m     n_features \u001b[38;5;241m=\u001b[39m array\u001b[38;5;241m.\u001b[39mshape[\u001b[38;5;241m1\u001b[39m]\n\u001b[0;32m   1138\u001b[0m     \u001b[38;5;28;01mif\u001b[39;00m n_features \u001b[38;5;241m<\u001b[39m ensure_min_features:\n\u001b[1;32m-> 1139\u001b[0m         \u001b[38;5;28;01mraise\u001b[39;00m \u001b[38;5;167;01mValueError\u001b[39;00m(\n\u001b[0;32m   1140\u001b[0m             \u001b[38;5;124m\"\u001b[39m\u001b[38;5;124mFound array with \u001b[39m\u001b[38;5;132;01m%d\u001b[39;00m\u001b[38;5;124m feature(s) (shape=\u001b[39m\u001b[38;5;132;01m%s\u001b[39;00m\u001b[38;5;124m) while\u001b[39m\u001b[38;5;124m\"\u001b[39m\n\u001b[0;32m   1141\u001b[0m             \u001b[38;5;124m\"\u001b[39m\u001b[38;5;124m a minimum of \u001b[39m\u001b[38;5;132;01m%d\u001b[39;00m\u001b[38;5;124m is required\u001b[39m\u001b[38;5;132;01m%s\u001b[39;00m\u001b[38;5;124m.\u001b[39m\u001b[38;5;124m\"\u001b[39m\n\u001b[0;32m   1142\u001b[0m             \u001b[38;5;241m%\u001b[39m (n_features, array\u001b[38;5;241m.\u001b[39mshape, ensure_min_features, context)\n\u001b[0;32m   1143\u001b[0m         )\n\u001b[0;32m   1145\u001b[0m \u001b[38;5;28;01mif\u001b[39;00m ensure_non_negative:\n\u001b[0;32m   1146\u001b[0m     whom \u001b[38;5;241m=\u001b[39m input_name\n",
      "\u001b[1;31mValueError\u001b[0m: Found array with 0 feature(s) (shape=(1, 0)) while a minimum of 1 is required."
     ]
    }
   ],
   "source": [
    "def evaluate_recommendations(model, test_users, ground_truth, k=5):\n",
    "    \"\"\"\n",
    "    Evaluasi model rekomendasi\n",
    "    :param model: Model yang sudah di-trained\n",
    "    :param test_users: Daftar user ID untuk testing\n",
    "    :param ground_truth: Dict {user_id: list[place_id]} interaksi aktual\n",
    "    :param k: Jumlah rekomendasi\n",
    "    \"\"\"\n",
    "    precisions = []\n",
    "    recalls = []\n",
    "    ndcgs = []\n",
    "    \n",
    "    for user_id in test_users:\n",
    "        # Dapatkan rekomendasi\n",
    "        user_idx = inv_user_mapping[user_id]\n",
    "        recommended = set(model.recommend(user_idx, k=k))\n",
    "        \n",
    "        # Dapatkan ground truth\n",
    "        actual = set(ground_truth.get(user_id, []))\n",
    "        \n",
    "        # Hitung metrik\n",
    "        relevant = recommended & actual\n",
    "        precision = len(relevant) / k\n",
    "        recall = len(relevant) / len(actual) if len(actual) > 0 else 0\n",
    "        \n",
    "        # Hitung NDCG\n",
    "        ideal_ranking = sorted(actual, reverse=True)\n",
    "        user_scores = [1 if p in actual else 0 for p in recommended]\n",
    "        ndcg = ndcg_score([ideal_ranking], [user_scores])\n",
    "        \n",
    "        precisions.append(precision)\n",
    "        recalls.append(recall)\n",
    "        ndcgs.append(ndcg)\n",
    "    \n",
    "    return {\n",
    "        'precision@k': np.mean(precisions),\n",
    "        'recall@k': np.mean(recalls),\n",
    "        'ndcg@k': np.mean(ndcgs)\n",
    "    }\n",
    "\n",
    "# Contoh penggunaan\n",
    "test_user_ids = users.sample(10)['User_Id'].tolist()\n",
    "ground_truth = {\n",
    "    # Contoh data: {user_id: [place_id1, place_id2]}\n",
    "    123: [45, 89, 120],\n",
    "    456: [78, 92],\n",
    "    # ...\n",
    "}\n",
    "\n",
    "metrics = evaluate_recommendations(hybrid_model, test_user_ids, ground_truth)\n",
    "print(f\"Precision@5: {metrics['precision@k']:.2f}\")\n",
    "print(f\"Recall@5: {metrics['recall@k']:.2f}\")\n",
    "print(f\"NDCG@5: {metrics['ndcg@k']:.2f}\")"
   ]
  },
  {
   "cell_type": "code",
   "execution_count": null,
   "id": "08f8c56b-4de1-4f45-b43a-8bcc681d0ad4",
   "metadata": {},
   "outputs": [],
   "source": []
  }
 ],
 "metadata": {
  "kernelspec": {
   "display_name": "Python 3 (ipykernel)",
   "language": "python",
   "name": "python3"
  },
  "language_info": {
   "codemirror_mode": {
    "name": "ipython",
    "version": 3
   },
   "file_extension": ".py",
   "mimetype": "text/x-python",
   "name": "python",
   "nbconvert_exporter": "python",
   "pygments_lexer": "ipython3",
   "version": "3.12.0"
  }
 },
 "nbformat": 4,
 "nbformat_minor": 5
}
