{
 "cells": [
  {
   "cell_type": "code",
   "execution_count": 5,
   "id": "66deb827-584a-4153-a6e8-9c5e54447897",
   "metadata": {},
   "outputs": [],
   "source": [
    "import pandas as pd\n",
    "import numpy as np\n",
    "from sklearn.neighbors import NearestNeighbors\n",
    "from sklearn.preprocessing import MultiLabelBinarizer, StandardScaler\n",
    "from sklearn.feature_extraction.text import TfidfVectorizer\n",
    "from sklearn.pipeline import Pipeline\n",
    "from sklearn.compose import ColumnTransformer\n",
    "import joblib"
   ]
  },
  {
   "cell_type": "markdown",
   "id": "8ebcc58a-239a-4525-acee-bfa6e7404287",
   "metadata": {},
   "source": [
    "## Data Loading"
   ]
  },
  {
   "cell_type": "code",
   "execution_count": 7,
   "id": "a395fd1a-5970-496a-844f-fe4b987866b0",
   "metadata": {},
   "outputs": [],
   "source": [
    "users = pd.read_csv('users_synthesized.csv')\n",
    "places = pd.read_csv('tourism_place_synthesized.csv')\n",
    "clicks = pd.read_csv('tourism_click_history.csv')\n",
    "searches = pd.read_csv('tourism_search_history.csv')\n",
    "ratings = pd.read_csv('tourism_rating.csv') "
   ]
  },
  {
   "cell_type": "markdown",
   "id": "fc3b194e-181a-41d5-855a-4619e369270d",
   "metadata": {},
   "source": [
    "## Building"
   ]
  },
  {
   "cell_type": "code",
   "execution_count": 9,
   "id": "4a9d8770-24dc-4d13-84e4-bdd4c9b5e889",
   "metadata": {},
   "outputs": [],
   "source": [
    "# 1. Content-Based Filtering Components\n",
    "def prepare_content_features():\n",
    "    # User features\n",
    "    mlb = MultiLabelBinarizer()\n",
    "    user_cats = mlb.fit_transform(users['Preferred_Categories'].apply(eval))\n",
    "    user_tags = mlb.fit_transform(users['Interest_Tags'].apply(eval))\n",
    "    \n",
    "    # Place features\n",
    "    place_cats = mlb.fit_transform(places['Category'].apply(lambda x: [x]))\n",
    "    place_desc_tfidf = TfidfVectorizer().fit_transform(places['Description'])\n",
    "    \n",
    "    return {\n",
    "        'user_features': np.hstack([user_cats, user_tags]),\n",
    "        'place_features': np.hstack([place_cats, place_desc_tfidf.toarray()]),\n",
    "        'transformers': mlb\n",
    "    }"
   ]
  },
  {
   "cell_type": "code",
   "execution_count": 10,
   "id": "47d4714f-f2d8-4a96-bd27-316088240d50",
   "metadata": {},
   "outputs": [],
   "source": [
    "# 2. Collaborative Filtering Components\n",
    "def prepare_collab_data():\n",
    "    # Create user-item matrix\n",
    "    click_counts = clicks.groupby(['User_Id', 'Place_Id']).size().unstack(fill_value=0)\n",
    "    search_counts = searches.groupby(['User_Id', 'Implied_Place_Id']).size().unstack(fill_value=0)\n",
    "    \n",
    "    # Combine interactions\n",
    "    interaction_matrix = click_counts.add(search_counts, fill_value=0)\n",
    "    return interaction_matrix.fillna(0)"
   ]
  },
  {
   "cell_type": "code",
   "execution_count": 11,
   "id": "0ef34085-5481-400e-acf8-096ce7e421ac",
   "metadata": {},
   "outputs": [],
   "source": [
    "# 3. Hybrid Model\n",
    "class HybridRecommender:\n",
    "    def __init__(self, content_weight=0.6, collab_weight=0.4):\n",
    "        self.content_model = NearestNeighbors(metric='cosine')\n",
    "        self.collab_model = NearestNeighbors(metric='cosine')\n",
    "        self.weights = [content_weight, collab_weight]\n",
    "        \n",
    "    def fit(self, content_features, collab_matrix):\n",
    "        self.content_model.fit(content_features)\n",
    "        self.collab_model.fit(collab_matrix)\n",
    "        \n",
    "    def recommend(self, user_idx, k=10):\n",
    "        # Content-based\n",
    "        content_dist, content_idx = self.content_model.kneighbors(\n",
    "            [content_features[user_idx]], n_neighbors=k*2)\n",
    "        \n",
    "        # Collaborative\n",
    "        collab_dist, collab_idx = self.collab_model.kneighbors(\n",
    "            [collab_matrix.iloc[user_idx].values], n_neighbors=k*2)\n",
    "        \n",
    "        # Hybrid scoring\n",
    "        combined = pd.DataFrame({\n",
    "            'place_id': np.concatenate([content_idx[0], collab_idx[0]]),\n",
    "            'score': np.concatenate([\n",
    "                1 - content_dist[0] * self.weights[0],\n",
    "                1 - collab_dist[0] * self.weights[1]\n",
    "            ])\n",
    "        }).sort_values('score', ascending=False).head(k)\n",
    "        \n",
    "        return combined['place_id'].tolist()\n"
   ]
  },
  {
   "cell_type": "code",
   "execution_count": 12,
   "id": "02ae8f57-9da3-45a3-bcba-1368104d8ea9",
   "metadata": {},
   "outputs": [],
   "source": [
    "# Prepare data\n",
    "content_data = prepare_content_features()\n",
    "collab_matrix = prepare_collab_data()"
   ]
  },
  {
   "cell_type": "code",
   "execution_count": 13,
   "id": "52d20260-efd2-4610-85c7-3422b87892cf",
   "metadata": {},
   "outputs": [],
   "source": [
    "# Train model\n",
    "model = HybridRecommender()\n",
    "model.fit(content_data['user_features'], collab_matrix)"
   ]
  },
  {
   "cell_type": "code",
   "execution_count": 14,
   "id": "f9126651-b464-4aed-b8fc-803f7c159f66",
   "metadata": {},
   "outputs": [
    {
     "data": {
      "text/plain": [
       "['hybrid_recommender.joblib']"
      ]
     },
     "execution_count": 14,
     "metadata": {},
     "output_type": "execute_result"
    }
   ],
   "source": [
    "# Save model and transformers\n",
    "joblib.dump({\n",
    "    'model': model,\n",
    "    'content_transformers': content_data['transformers'],\n",
    "    'tfidf_vectorizer': TfidfVectorizer().fit(places['Description']),\n",
    "    'user_mapping': dict(enumerate(users['User_Id'])),\n",
    "    'place_mapping': dict(enumerate(places['Place_Id']))\n",
    "}, 'hybrid_recommender.joblib')"
   ]
  },
  {
   "cell_type": "code",
   "execution_count": null,
   "id": "6e59e180-0dc4-4d2c-83d0-42bbf8749517",
   "metadata": {},
   "outputs": [],
   "source": []
  }
 ],
 "metadata": {
  "kernelspec": {
   "display_name": "Python 3 (ipykernel)",
   "language": "python",
   "name": "python3"
  },
  "language_info": {
   "codemirror_mode": {
    "name": "ipython",
    "version": 3
   },
   "file_extension": ".py",
   "mimetype": "text/x-python",
   "name": "python",
   "nbconvert_exporter": "python",
   "pygments_lexer": "ipython3",
   "version": "3.12.0"
  }
 },
 "nbformat": 4,
 "nbformat_minor": 5
}
