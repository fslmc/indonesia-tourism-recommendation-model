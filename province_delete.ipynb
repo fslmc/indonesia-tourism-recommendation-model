{
 "cells": [
  {
   "cell_type": "code",
   "execution_count": 1,
   "id": "11e5b644-b2db-495b-8f9d-b117627a8e72",
   "metadata": {},
   "outputs": [],
   "source": [
    "import pandas as pd\n",
    "\n",
    "# Example DataFrame\n",
    "df = pd.read_csv(\"user.csv\")  # or use your existing DataFrame\n",
    "\n",
    "# Keep only the city name before the comma\n",
    "df['Location'] = df['Location'].str.split(',').str[0].str.strip()"
   ]
  },
  {
   "cell_type": "code",
   "execution_count": 2,
   "id": "974ce886-457d-4b3b-84ef-c0683ca56e92",
   "metadata": {},
   "outputs": [
    {
     "data": {
      "text/plain": [
       "array(['Semarang', 'Bekasi', 'Cirebon', 'Lampung', 'Jakarta Utara',\n",
       "       'Jakarta Selatan', 'Bandung', 'Surabaya', 'Yogyakarta', 'Bogor',\n",
       "       'Depok', 'Jakarta Pusat', 'Jakarta Timur', 'Subang',\n",
       "       'Jakarta Barat', 'Palembang', 'Sragen', 'Ponorogo', 'Klaten',\n",
       "       'Solo', 'Tanggerang', 'Serang', 'Cilacap', 'Kota Gede', 'Karawang',\n",
       "       'Purwakarat', 'Nganjuk', 'Madura'], dtype=object)"
      ]
     },
     "execution_count": 2,
     "metadata": {},
     "output_type": "execute_result"
    }
   ],
   "source": [
    "df['Location'].unique()"
   ]
  },
  {
   "cell_type": "code",
   "execution_count": 3,
   "id": "d54c2c4c-0bd7-4031-bb22-2ba5a147df7a",
   "metadata": {},
   "outputs": [],
   "source": [
    "df.to_csv('users.csv')"
   ]
  },
  {
   "cell_type": "code",
   "execution_count": null,
   "id": "aaeec649-4088-4851-8a10-2ba2bcc5a767",
   "metadata": {},
   "outputs": [],
   "source": []
  }
 ],
 "metadata": {
  "kernelspec": {
   "display_name": "Python 3 (ipykernel)",
   "language": "python",
   "name": "python3"
  },
  "language_info": {
   "codemirror_mode": {
    "name": "ipython",
    "version": 3
   },
   "file_extension": ".py",
   "mimetype": "text/x-python",
   "name": "python",
   "nbconvert_exporter": "python",
   "pygments_lexer": "ipython3",
   "version": "3.12.0"
  }
 },
 "nbformat": 4,
 "nbformat_minor": 5
}
